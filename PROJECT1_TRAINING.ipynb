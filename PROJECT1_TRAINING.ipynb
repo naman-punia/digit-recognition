{
 "cells": [
  {
   "cell_type": "code",
   "execution_count": 21,
   "metadata": {},
   "outputs": [
    {
     "name": "stdout",
     "output_type": "stream",
     "text": [
      "(60000, 28, 28) (60000,)\n"
     ]
    }
   ],
   "source": [
    "import keras\n",
    "from keras.datasets import mnist\n",
    "from keras.models import Sequential\n",
    "from keras.layers import Dense, Dropout, Flatten\n",
    "from keras.layers import Conv2D, MaxPooling2D\n",
    "from keras import backend as K\n",
    "# the data, split between train and test sets\n",
    "(x_train, y_train), (x_test, y_test) = mnist.load_data()\n",
    "print(x_train.shape, y_train.shape)"
   ]
  },
  {
   "cell_type": "code",
   "execution_count": 22,
   "metadata": {},
   "outputs": [
    {
     "name": "stdout",
     "output_type": "stream",
     "text": [
      "x_train shape: (60000, 28, 28, 1)\n",
      "60000 train samples\n",
      "10000 test samples\n"
     ]
    }
   ],
   "source": [
    "#Data preprocessing\n",
    "x_train = x_train.reshape(x_train.shape[0], 28, 28, 1)\n",
    "x_test = x_test.reshape(x_test.shape[0], 28, 28, 1)\n",
    "input_shape = (28, 28, 1)\n",
    "num_classes=10\n",
    "# convert class vectors to binary class matrices\n",
    "y_train = keras.utils.to_categorical(y_train, num_classes)\n",
    "y_test = keras.utils.to_categorical(y_test, num_classes)\n",
    "# most common use of \n",
    "x_train = x_train.astype('float32')\n",
    "x_test = x_test.astype('float32')\n",
    "x_train /= 255\n",
    "x_test /= 255\n",
    "print('x_train shape:', x_train.shape)\n",
    "print(x_train.shape[0], 'train samples')\n",
    "print(x_test.shape[0], 'test samples')"
   ]
  },
  {
   "cell_type": "code",
   "execution_count": 23,
   "metadata": {},
   "outputs": [],
   "source": [
    "#model creation\n",
    "batch_size = 128\n",
    "num_classes = 10\n",
    "epochs = 50\n",
    "model = Sequential()\n",
    "model.add(Conv2D(32, kernel_size=(3, 3),activation='relu',input_shape=input_shape))\n",
    "model.add(Conv2D(64, (3, 3), activation='relu'))\n",
    "model.add(MaxPooling2D(pool_size=(2, 2)))\n",
    "model.add(Dropout(0.25))\n",
    "model.add(Flatten())\n",
    "model.add(Dense(256, activation='relu'))\n",
    "model.add(Dropout(0.5))\n",
    "model.add(Dense(num_classes, activation='softmax'))\n",
    "model.compile(loss=keras.losses.categorical_crossentropy,optimizer=keras.optimizers.Adadelta(),metrics=['accuracy'])"
   ]
  },
  {
   "cell_type": "code",
   "execution_count": 24,
   "metadata": {
    "scrolled": true
   },
   "outputs": [
    {
     "name": "stdout",
     "output_type": "stream",
     "text": [
      "Epoch 1/50\n",
      "469/469 [==============================] - 42s 89ms/step - loss: 2.2800 - accuracy: 0.1477 - val_loss: 2.2413 - val_accuracy: 0.4093\n",
      "Epoch 2/50\n",
      "469/469 [==============================] - 44s 93ms/step - loss: 2.2177 - accuracy: 0.2910 - val_loss: 2.1631 - val_accuracy: 0.5757\n",
      "Epoch 3/50\n",
      "469/469 [==============================] - 44s 93ms/step - loss: 2.1326 - accuracy: 0.4194 - val_loss: 2.0517 - val_accuracy: 0.6577\n",
      "Epoch 4/50\n",
      "469/469 [==============================] - 44s 94ms/step - loss: 2.0103 - accuracy: 0.5104 - val_loss: 1.8907 - val_accuracy: 0.7227\n",
      "Epoch 5/50\n",
      "469/469 [==============================] - 44s 94ms/step - loss: 1.8386 - accuracy: 0.5782 - val_loss: 1.6695 - val_accuracy: 0.7613\n",
      "Epoch 6/50\n",
      "469/469 [==============================] - 44s 95ms/step - loss: 1.6197 - accuracy: 0.6253 - val_loss: 1.4070 - val_accuracy: 0.7898\n",
      "Epoch 7/50\n",
      "469/469 [==============================] - 44s 94ms/step - loss: 1.3942 - accuracy: 0.6612 - val_loss: 1.1554 - val_accuracy: 0.8099\n",
      "Epoch 8/50\n",
      "469/469 [==============================] - 44s 95ms/step - loss: 1.1947 - accuracy: 0.6887 - val_loss: 0.9540 - val_accuracy: 0.8276\n",
      "Epoch 9/50\n",
      "469/469 [==============================] - 44s 94ms/step - loss: 1.0413 - accuracy: 0.7160 - val_loss: 0.8083 - val_accuracy: 0.8406\n",
      "Epoch 10/50\n",
      "469/469 [==============================] - 44s 94ms/step - loss: 0.9327 - accuracy: 0.7344 - val_loss: 0.7061 - val_accuracy: 0.8509\n",
      "Epoch 11/50\n",
      "469/469 [==============================] - 44s 94ms/step - loss: 0.8547 - accuracy: 0.7481 - val_loss: 0.6332 - val_accuracy: 0.8581\n",
      "Epoch 12/50\n",
      "469/469 [==============================] - 44s 95ms/step - loss: 0.7924 - accuracy: 0.7638 - val_loss: 0.5796 - val_accuracy: 0.8641\n",
      "Epoch 13/50\n",
      "469/469 [==============================] - 44s 95ms/step - loss: 0.7428 - accuracy: 0.7755 - val_loss: 0.5391 - val_accuracy: 0.8700\n",
      "Epoch 14/50\n",
      "469/469 [==============================] - 45s 96ms/step - loss: 0.7015 - accuracy: 0.7887 - val_loss: 0.5067 - val_accuracy: 0.8770racy - ETA: 1s - loss: 0.7018  - ETA: 0s - loss: 0.7011 \n",
      "Epoch 15/50\n",
      "469/469 [==============================] - 45s 95ms/step - loss: 0.6718 - accuracy: 0.7961 - val_loss: 0.4803 - val_accuracy: 0.8811\n",
      "Epoch 16/50\n",
      "469/469 [==============================] - 45s 95ms/step - loss: 0.6429 - accuracy: 0.8037 - val_loss: 0.4586 - val_accuracy: 0.8824\n",
      "Epoch 17/50\n",
      "469/469 [==============================] - 45s 95ms/step - loss: 0.6186 - accuracy: 0.8124 - val_loss: 0.4404 - val_accuracy: 0.8860\n",
      "Epoch 18/50\n",
      "469/469 [==============================] - 44s 95ms/step - loss: 0.6005 - accuracy: 0.8164 - val_loss: 0.4248 - val_accuracy: 0.8886\n",
      "Epoch 19/50\n",
      "469/469 [==============================] - 44s 95ms/step - loss: 0.5794 - accuracy: 0.8234 - val_loss: 0.4114 - val_accuracy: 0.8915\n",
      "Epoch 20/50\n",
      "469/469 [==============================] - 45s 95ms/step - loss: 0.5698 - accuracy: 0.8271 - val_loss: 0.4000 - val_accuracy: 0.8933\n",
      "Epoch 21/50\n",
      "469/469 [==============================] - 46s 97ms/step - loss: 0.5511 - accuracy: 0.8329 - val_loss: 0.3888 - val_accuracy: 0.8959\n",
      "Epoch 22/50\n",
      "469/469 [==============================] - 811s 2s/step - loss: 0.5408 - accuracy: 0.8343 - val_loss: 0.3800 - val_accuracy: 0.8964\n",
      "Epoch 23/50\n",
      "469/469 [==============================] - 44s 94ms/step - loss: 0.5255 - accuracy: 0.8393 - val_loss: 0.3712 - val_accuracy: 0.8981\n",
      "Epoch 24/50\n",
      "469/469 [==============================] - 45s 96ms/step - loss: 0.5159 - accuracy: 0.8427 - val_loss: 0.3635 - val_accuracy: 0.8994\n",
      "Epoch 25/50\n",
      "469/469 [==============================] - 45s 95ms/step - loss: 0.5095 - accuracy: 0.8459 - val_loss: 0.3567 - val_accuracy: 0.9021\n",
      "Epoch 26/50\n",
      "469/469 [==============================] - 45s 96ms/step - loss: 0.4963 - accuracy: 0.8499 - val_loss: 0.3499 - val_accuracy: 0.9048\n",
      "Epoch 27/50\n",
      "469/469 [==============================] - 45s 96ms/step - loss: 0.4863 - accuracy: 0.8522 - val_loss: 0.3441 - val_accuracy: 0.9060\n",
      "Epoch 28/50\n",
      "469/469 [==============================] - 45s 97ms/step - loss: 0.4828 - accuracy: 0.8537 - val_loss: 0.3385 - val_accuracy: 0.9077\n",
      "Epoch 29/50\n",
      "469/469 [==============================] - 46s 97ms/step - loss: 0.4766 - accuracy: 0.8551 - val_loss: 0.3331 - val_accuracy: 0.9086\n",
      "Epoch 30/50\n",
      "469/469 [==============================] - 45s 96ms/step - loss: 0.4677 - accuracy: 0.8587 - val_loss: 0.3282 - val_accuracy: 0.9093\n",
      "Epoch 31/50\n",
      "469/469 [==============================] - 45s 95ms/step - loss: 0.4612 - accuracy: 0.8597 - val_loss: 0.3234 - val_accuracy: 0.9106\n",
      "Epoch 32/50\n",
      "469/469 [==============================] - 45s 96ms/step - loss: 0.4534 - accuracy: 0.8629 - val_loss: 0.3189 - val_accuracy: 0.9108\n",
      "Epoch 33/50\n",
      "469/469 [==============================] - 45s 96ms/step - loss: 0.4487 - accuracy: 0.8653 - val_loss: 0.3149 - val_accuracy: 0.9121\n",
      "Epoch 34/50\n",
      "469/469 [==============================] - 45s 96ms/step - loss: 0.4421 - accuracy: 0.8649 - val_loss: 0.3105 - val_accuracy: 0.9129\n",
      "Epoch 35/50\n",
      "469/469 [==============================] - 47s 101ms/step - loss: 0.4376 - accuracy: 0.8659 - val_loss: 0.3067 - val_accuracy: 0.9138\n",
      "Epoch 36/50\n",
      "469/469 [==============================] - 46s 98ms/step - loss: 0.4323 - accuracy: 0.8702 - val_loss: 0.3033 - val_accuracy: 0.9147\n",
      "Epoch 37/50\n",
      "469/469 [==============================] - 46s 99ms/step - loss: 0.4286 - accuracy: 0.8703 - val_loss: 0.2999 - val_accuracy: 0.9160\n",
      "Epoch 38/50\n",
      "469/469 [==============================] - 46s 98ms/step - loss: 0.4239 - accuracy: 0.8719 - val_loss: 0.2966 - val_accuracy: 0.9169\n",
      "Epoch 39/50\n",
      "469/469 [==============================] - 46s 98ms/step - loss: 0.4188 - accuracy: 0.8722 - val_loss: 0.2930 - val_accuracy: 0.9166\n",
      "Epoch 40/50\n",
      "469/469 [==============================] - 46s 98ms/step - loss: 0.4129 - accuracy: 0.8744 - val_loss: 0.2899 - val_accuracy: 0.9188\n",
      "Epoch 41/50\n",
      "469/469 [==============================] - 47s 100ms/step - loss: 0.4093 - accuracy: 0.8758 - val_loss: 0.2868 - val_accuracy: 0.9194\n",
      "Epoch 42/50\n",
      "469/469 [==============================] - 50s 107ms/step - loss: 0.4061 - accuracy: 0.8783 - val_loss: 0.2840 - val_accuracy: 0.9202\n",
      "Epoch 43/50\n",
      "469/469 [==============================] - 49s 103ms/step - loss: 0.4012 - accuracy: 0.8790 - val_loss: 0.2810 - val_accuracy: 0.9211\n",
      "Epoch 44/50\n",
      "469/469 [==============================] - 53s 113ms/step - loss: 0.4000 - accuracy: 0.8790 - val_loss: 0.2784 - val_accuracy: 0.9211\n",
      "Epoch 45/50\n",
      "469/469 [==============================] - 49s 105ms/step - loss: 0.3937 - accuracy: 0.8810 - val_loss: 0.2756 - val_accuracy: 0.9224\n",
      "Epoch 46/50\n",
      "469/469 [==============================] - 45s 97ms/step - loss: 0.3900 - accuracy: 0.8834 - val_loss: 0.2730 - val_accuracy: 0.9224\n",
      "Epoch 47/50\n",
      "469/469 [==============================] - 48s 103ms/step - loss: 0.3876 - accuracy: 0.8837 - val_loss: 0.2704 - val_accuracy: 0.9237\n",
      "Epoch 48/50\n",
      "469/469 [==============================] - 48s 103ms/step - loss: 0.3837 - accuracy: 0.8845 - val_loss: 0.2677 - val_accuracy: 0.9240\n",
      "Epoch 49/50\n",
      "469/469 [==============================] - 50s 107ms/step - loss: 0.3821 - accuracy: 0.8847 - val_loss: 0.2650 - val_accuracy: 0.9250\n",
      "Epoch 50/50\n",
      "469/469 [==============================] - 50s 107ms/step - loss: 0.3769 - accuracy: 0.8856 - val_loss: 0.2629 - val_accuracy: 0.9252\n",
      "The model has successfully trained\n",
      "Saving the model as PROJECT1.h5\n"
     ]
    }
   ],
   "source": [
    "hist = model.fit(x_train, \n",
    "y_train,batch_size=batch_size,epochs=epochs,verbose=1,validation_data=(x_test, y_test))\n",
    "print(\"The model has successfully trained\")\n",
    "\n",
    "model.save('PROJECT1.h5')\n",
    "print(\"Saving the model as PROJECT1.h5\")"
   ]
  },
  {
   "cell_type": "code",
   "execution_count": 25,
   "metadata": {
    "scrolled": true
   },
   "outputs": [
    {
     "name": "stdout",
     "output_type": "stream",
     "text": [
      "Test loss: 0.26286983489990234\n",
      "Test accuracy: 0.9251999855041504\n"
     ]
    }
   ],
   "source": [
    "score = model.evaluate(x_test, y_test, verbose=0)\n",
    "print('Test loss:', score[0])\n",
    "print('Test accuracy:', score[1])"
   ]
  },
  {
   "cell_type": "code",
   "execution_count": null,
   "metadata": {},
   "outputs": [],
   "source": []
  }
 ],
 "metadata": {
  "kernelspec": {
   "display_name": "Python 3",
   "language": "python",
   "name": "python3"
  },
  "language_info": {
   "codemirror_mode": {
    "name": "ipython",
    "version": 3
   },
   "file_extension": ".py",
   "mimetype": "text/x-python",
   "name": "python",
   "nbconvert_exporter": "python",
   "pygments_lexer": "ipython3",
   "version": "3.8.5"
  }
 },
 "nbformat": 4,
 "nbformat_minor": 4
}
